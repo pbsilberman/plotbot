{
 "cells": [
  {
   "cell_type": "code",
   "execution_count": null,
   "metadata": {},
   "outputs": [],
   "source": [
    "# Import dependencies\n",
    "import numpy as np\n",
    "import matplotlib.pyplot as plt\n",
    "import seaborn as sns\n",
    "import tweepy\n",
    "import time\n",
    "import json\n",
    "import datetime\n",
    "from config import consumer_key, consumer_secret, access_token, access_token_secret\n",
    "from vaderSentiment.vaderSentiment import SentimentIntensityAnalyzer\n",
    "\n",
    "# Define sentiment analyzer\n",
    "analyzer = SentimentIntensityAnalyzer()"
   ]
  },
  {
   "cell_type": "code",
   "execution_count": null,
   "metadata": {},
   "outputs": [],
   "source": [
    "# Twitter API Keys\n",
    "consumer_key = consumer_key\n",
    "consumer_secret = consumer_secret\n",
    "access_token = access_token\n",
    "access_token_secret = access_token_secret"
   ]
  },
  {
   "cell_type": "code",
   "execution_count": null,
   "metadata": {},
   "outputs": [],
   "source": [
    "# Twitter Credentials\n",
    "auth = tweepy.OAuthHandler(consumer_key, consumer_secret)\n",
    "auth.set_access_token(access_token, access_token_secret)\n",
    "api = tweepy.API(auth, parser=tweepy.parsers.JSONParser())"
   ]
  },
  {
   "cell_type": "code",
   "execution_count": null,
   "metadata": {},
   "outputs": [],
   "source": [
    "# Define a function to plot the sentiment analysis\n",
    "# Inputs are the lists for the x-axis (tweets ago), y-axis (tweet scores) and user name of the account analyzed\n",
    "def plot_sentiments(tweets_ago, tweet_scores, user_name):\n",
    "\n",
    "    # Use the Seaborn's preset Notebook appearance\n",
    "    sns.set()\n",
    "\n",
    "    # Pull current date\n",
    "    now = datetime.datetime.now()\n",
    "\n",
    "    fig = plt.figure(figsize=(9,6))\n",
    "    ax = plt.subplot(111)\n",
    "\n",
    "    ax.plot(tweets_ago, tweet_scores, linestyle = 'solid', marker = 'o', linewidth = .45, label = f'@{user_name}')\n",
    "\n",
    "    # Add labeling\n",
    "    plt.title(f'Sentiment Analysis of Tweets ({now.strftime(\"%m/%d/%Y\")})')\n",
    "    plt.xlabel(\"Tweets Ago\")\n",
    "    plt.ylabel(\"Tweet Polarity\")\n",
    "\n",
    "    # Set x and y limits\n",
    "    plt.xlim(min(tweets_ago) - 5, 5)\n",
    "    plt.ylim(-1.05,1.05)\n",
    "\n",
    "    # Shrink current axis by 20%\n",
    "    box = ax.get_position()\n",
    "    #ax.set_position([box.x0, box.y0, box.width * 0.8, box.height])\n",
    "\n",
    "    # Put a legend to the right of the current axis\n",
    "    ax.legend(loc='upper left', bbox_to_anchor=(1, 1), title = 'Tweets')\n",
    "\n",
    "    # Save the figure in our current directory, indicate 'tight' so we don't cut off the legend\n",
    "    plt.savefig('sentiment.png', bbox_inches = 'tight')"
   ]
  },
  {
   "cell_type": "code",
   "execution_count": null,
   "metadata": {},
   "outputs": [],
   "source": [
    "# Define the function to actually tweet the sentinment analysis given a user name\n",
    "def tweet_sentiments(tweet_from, user_name):\n",
    "    \n",
    "    # Gather last 500 tweets from the user's timeline\n",
    "    oldest_tweet = None\n",
    "    \n",
    "    # Initialize lists to track the scores and number of tweets ago\n",
    "    tweet_scores = []\n",
    "    tweets_ago = []\n",
    "    \n",
    "    # Use this loop to grab 100 tweets 5 times\n",
    "    for x in range(5):\n",
    "        \n",
    "        # Gather last 100 tweets from the user's timeline\n",
    "        tweets = api.user_timeline(user_name, count = 100, max_id = oldest_tweet)\n",
    "    \n",
    "        # Loop through each tweet and perform a sentiment analysis\n",
    "        for tweet in tweets:\n",
    "            # Perform sentiment analysis on the tweet text\n",
    "            score = analyzer.polarity_scores(tweet['text'])\n",
    "\n",
    "            # Capture the overall polarity in the list\n",
    "            tweet_scores.append(score['compound'])\n",
    "            \n",
    "            # Increment oldest_tweet\n",
    "            oldest_tweet = tweet[\"id\"] - 1\n",
    "\n",
    "    # Create a list for the x-axis based on the number of scores (in case there are <500 tweets)\n",
    "    for x in range(len(tweet_scores)):\n",
    "        tweets_ago.append(-1*(x+1))\n",
    "    \n",
    "    # Create the plot in the current directory\n",
    "    plot_sentiments(tweets_ago, tweet_scores, user_name)\n",
    "    \n",
    "    # Tweet out the plot\n",
    "    api.update_with_media(\"sentiment.png\", f\"New Tweet Analysis: @{user_name} (Thanks @{tweet_from}!)\") "
   ]
  },
  {
   "cell_type": "code",
   "execution_count": null,
   "metadata": {},
   "outputs": [],
   "source": [
    "def mentions_plot():\n",
    "    # Pull all mentions for the bot\n",
    "    mentions = api.mentions_timeline()\n",
    "\n",
    "    # Initialize counter to loop through mentions\n",
    "    counter = 0\n",
    "\n",
    "    # Loop through all mentions to find any new visualizations to plot\n",
    "    while counter < len(mentions):\n",
    "\n",
    "        # Store the user mentions data tweet by tweet starting from the most recent\n",
    "        # We assume the 2nd mention corresponds to the requests since the first mention is the bot itself\n",
    "        from_user = mentions[counter]['user']['screen_name']\n",
    "        \n",
    "        # We add in this error catching in case the tweet does not have a mention\n",
    "        try:\n",
    "            user = mentions[counter]['entities']['user_mentions'][1]['screen_name']\n",
    "            \n",
    "            if user not in users_list:\n",
    "\n",
    "                # Call the tweet_sentiments function to produce the sentiment analysis graph\n",
    "                tweet_sentiments(from_user, user)\n",
    "\n",
    "                # Add username to already plotted list\n",
    "                users_list.append(user)\n",
    "\n",
    "                # Set the counter high enough to break the while loop\n",
    "                counter = len(mentions)\n",
    "\n",
    "            # Else increment the counter and go to the next mention\n",
    "            else:\n",
    "                counter += 1\n",
    "                \n",
    "        # If there is no mention in the tweet, just go to the next tweet\n",
    "        except IndexError:\n",
    "            counter += 1"
   ]
  },
  {
   "cell_type": "code",
   "execution_count": null,
   "metadata": {},
   "outputs": [],
   "source": [
    "# Initialize the users list which tracks which accounts have already been analyzed\n",
    "users_list = []\n",
    "\n",
    "while True:\n",
    "    # Run the mentions plot function\n",
    "    mentions_plot()\n",
    "    \n",
    "    # Restart after 300 seconds (5 minutes)\n",
    "    time.sleep(300)"
   ]
  },
  {
   "cell_type": "code",
   "execution_count": null,
   "metadata": {},
   "outputs": [],
   "source": [
    "# Delete all of the account's tweets, TESTING ONLY\n",
    "# tweets = api.home_timeline()\n",
    "\n",
    "# for tweet in tweets:\n",
    "#     api.destroy_status(tweet['id'])"
   ]
  },
  {
   "cell_type": "code",
   "execution_count": null,
   "metadata": {},
   "outputs": [],
   "source": []
  }
 ],
 "metadata": {
  "kernelspec": {
   "display_name": "Python 3",
   "language": "python",
   "name": "python3"
  },
  "language_info": {
   "codemirror_mode": {
    "name": "ipython",
    "version": 3
   },
   "file_extension": ".py",
   "mimetype": "text/x-python",
   "name": "python",
   "nbconvert_exporter": "python",
   "pygments_lexer": "ipython3",
   "version": "3.6.4"
  }
 },
 "nbformat": 4,
 "nbformat_minor": 2
}
